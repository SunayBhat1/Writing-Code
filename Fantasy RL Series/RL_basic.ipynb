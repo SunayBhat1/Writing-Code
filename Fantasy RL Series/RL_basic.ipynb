{
 "cells": [
  {
   "cell_type": "markdown",
   "metadata": {},
   "source": [
    "# Basic Bandit Implementation of Fantasy Football Reinforcement Learning"
   ]
  },
  {
   "cell_type": "markdown",
   "metadata": {},
   "source": [
    "Article Link: "
   ]
  },
  {
   "cell_type": "code",
   "execution_count": null,
   "metadata": {},
   "outputs": [],
   "source": [
    "from ImportLeague import getLeague\n",
    "from ImportData import getTeamData\n",
    "from ImportData import getPlayerData\n",
    "import pandas as pd\n",
    "# from sklearn import linear_model\n",
    "import numpy as np\n",
    "import matplotlib.pyplot as plt\n",
    "plt.style.use('seaborn')\n",
    "from tqdm import tqdm \n",
    "import warnings\n",
    "warnings.filterwarnings(\"ignore\")"
   ]
  },
  {
   "cell_type": "code",
   "execution_count": 2,
   "metadata": {},
   "outputs": [],
   "source": [
    "# Import Data\n",
    "myLeague = getLeague()\n",
    "teamData_defense,teamData_offense = getTeamData()\n",
    "playerData = getPlayerData(myLeague,teamData_defense,teamData_offense)"
   ]
  },
  {
   "cell_type": "code",
   "execution_count": 3,
   "metadata": {},
   "outputs": [],
   "source": [
    "def get_active_roster(Roster):\n",
    "\n",
    "    myRoster = pd.DataFrame(columns=['Position','Name','Proj Points'])\n",
    "\n",
    "    # Create a dataframe of the full roster of players I own\n",
    "    for player in Roster:\n",
    "        playerDict = {}\n",
    "        playerDict['Position'] = player.position\n",
    "        playerDict['Name'] = player.name\n",
    "        playerDict['Proj Points'] = player.stats[myLeague.nfl_week]['projected_points']\n",
    "        myRoster = myRoster.append(playerDict, ignore_index = True)\n",
    "\n",
    "    # Concatenate the n highest projected-points players with n being the allowed slots per position accross positions\n",
    "    myRoster = pd.concat([myRoster[myRoster['Position'] == 'QB'].nlargest(1, ['Proj Points']),\\\n",
    "        myRoster[myRoster['Position'] == 'RB'].nlargest(2, ['Proj Points']),\\\n",
    "        myRoster[myRoster['Position'] == 'WR'].nlargest(3, ['Proj Points']),\\\n",
    "        myRoster[myRoster['Position'] == 'TE'].nlargest(1, ['Proj Points']),\\\n",
    "        myRoster[myRoster['Position'] == 'D/ST'].nlargest(1, ['Proj Points']),\\\n",
    "        myRoster[myRoster['Position'] == 'K'].nlargest(1, ['Proj Points'])])\n",
    "\n",
    "    return myRoster\n"
   ]
  },
  {
   "cell_type": "code",
   "execution_count": 4,
   "metadata": {},
   "outputs": [
    {
     "data": {
      "text/html": [
       "<div>\n",
       "<style scoped>\n",
       "    .dataframe tbody tr th:only-of-type {\n",
       "        vertical-align: middle;\n",
       "    }\n",
       "\n",
       "    .dataframe tbody tr th {\n",
       "        vertical-align: top;\n",
       "    }\n",
       "\n",
       "    .dataframe thead th {\n",
       "        text-align: right;\n",
       "    }\n",
       "</style>\n",
       "<table border=\"1\" class=\"dataframe\">\n",
       "  <thead>\n",
       "    <tr style=\"text-align: right;\">\n",
       "      <th></th>\n",
       "      <th>Position</th>\n",
       "      <th>Name</th>\n",
       "      <th>Proj Points</th>\n",
       "    </tr>\n",
       "  </thead>\n",
       "  <tbody>\n",
       "    <tr>\n",
       "      <th>0</th>\n",
       "      <td>QB</td>\n",
       "      <td>Dak Prescott</td>\n",
       "      <td>22.05</td>\n",
       "    </tr>\n",
       "    <tr>\n",
       "      <th>1</th>\n",
       "      <td>RB</td>\n",
       "      <td>Saquon Barkley</td>\n",
       "      <td>14.40</td>\n",
       "    </tr>\n",
       "    <tr>\n",
       "      <th>2</th>\n",
       "      <td>RB</td>\n",
       "      <td>Chase Edmonds</td>\n",
       "      <td>14.32</td>\n",
       "    </tr>\n",
       "    <tr>\n",
       "      <th>3</th>\n",
       "      <td>WR</td>\n",
       "      <td>Amari Cooper</td>\n",
       "      <td>12.08</td>\n",
       "    </tr>\n",
       "    <tr>\n",
       "      <th>4</th>\n",
       "      <td>WR</td>\n",
       "      <td>Marvin Jones Jr.</td>\n",
       "      <td>11.71</td>\n",
       "    </tr>\n",
       "    <tr>\n",
       "      <th>5</th>\n",
       "      <td>WR</td>\n",
       "      <td>Antonio Brown</td>\n",
       "      <td>11.46</td>\n",
       "    </tr>\n",
       "    <tr>\n",
       "      <th>6</th>\n",
       "      <td>TE</td>\n",
       "      <td>Noah Fant</td>\n",
       "      <td>8.62</td>\n",
       "    </tr>\n",
       "    <tr>\n",
       "      <th>7</th>\n",
       "      <td>D/ST</td>\n",
       "      <td>Broncos D/ST</td>\n",
       "      <td>7.18</td>\n",
       "    </tr>\n",
       "    <tr>\n",
       "      <th>8</th>\n",
       "      <td>K</td>\n",
       "      <td>Mason Crosby</td>\n",
       "      <td>8.08</td>\n",
       "    </tr>\n",
       "  </tbody>\n",
       "</table>\n",
       "</div>"
      ],
      "text/plain": [
       "  Position              Name  Proj Points\n",
       "0       QB      Dak Prescott        22.05\n",
       "1       RB    Saquon Barkley        14.40\n",
       "2       RB     Chase Edmonds        14.32\n",
       "3       WR      Amari Cooper        12.08\n",
       "4       WR  Marvin Jones Jr.        11.71\n",
       "5       WR     Antonio Brown        11.46\n",
       "6       TE         Noah Fant         8.62\n",
       "7     D/ST      Broncos D/ST         7.18\n",
       "8        K      Mason Crosby         8.08"
      ]
     },
     "execution_count": 4,
     "metadata": {},
     "output_type": "execute_result"
    }
   ],
   "source": [
    "myRoster = get_active_roster(myLeague.teams[8].roster)\n",
    "myRoster = myRoster.reset_index(drop=True)\n",
    "myRoster"
   ]
  },
  {
   "cell_type": "code",
   "execution_count": 6,
   "metadata": {},
   "outputs": [],
   "source": [
    "# Find sizes of each free agency pool\n",
    "sizes = []\n",
    "\n",
    "for position in ['QB','RB','WR','TE','D/ST','K']:\n",
    "    sizes.append(playerData[position][playerData[position]['Free Agency'] == True].shape[0])"
   ]
  },
  {
   "cell_type": "code",
   "execution_count": 7,
   "metadata": {},
   "outputs": [],
   "source": [
    "def get_action(epsilon,Q_val,sizes_Dict,position_Dict):\n",
    "    p_epsilon = np.random.uniform(0,1)\n",
    "    if p_epsilon < epsilon:\n",
    "        position = np.random.randint(9)\n",
    "        free_agent = np.random.randint(sizes_Dict[position_Dict[position]])\n",
    "        return (position,free_agent)\n",
    "\n",
    "    action = np.unravel_index(Q_val.argmax(), Q_val.shape)\n",
    "    while action[1] > (sizes_Dict[position_Dict[action[0]]] -1):\n",
    "        Q_val[action[0],action[1]] = -100\n",
    "        action = np.unravel_index(Q_val.argmax(), Q_val.shape)\n",
    "\n",
    "\n",
    "\n",
    "    return action\n"
   ]
  },
  {
   "cell_type": "code",
   "execution_count": 9,
   "metadata": {},
   "outputs": [],
   "source": [
    "# Sets Q-value table and vistis table to calculate inctemental averages\n",
    "Q_val = np.zeros([9,max(sizes)])\n",
    "n_s = np.zeros([9,max(sizes)])\n",
    "sizes_Dict = dict(zip(['QB','RB','WR','TE','D/ST','K'], sizes))\n",
    "position_Dict = dict(zip(range(9),['QB','RB','RB','WR','WR','WR','TE','D/ST','K']))\n",
    "for slot in range(9):\n",
    "    for null in range(sizes_Dict[position_Dict[slot]],max(sizes)): Q_val[slot][null] = -100"
   ]
  },
  {
   "cell_type": "code",
   "execution_count": 10,
   "metadata": {},
   "outputs": [
    {
     "name": "stderr",
     "output_type": "stream",
     "text": [
      "100%|██████████| 1000/1000 [00:02<00:00, 391.15it/s]\n"
     ]
    }
   ],
   "source": [
    "# Hyperparms\n",
    "NUM_EPISODES = 1000\n",
    "EPSILON = 0.3\n",
    "\n",
    "# Baseline project points to calculate reward\n",
    "Baseline = myRoster['Proj Points'].sum()\n",
    "\n",
    "# Loop through episodes\n",
    "for episode in tqdm(range(NUM_EPISODES)):\n",
    "\n",
    "    newRoster = myRoster.copy() # make a cope of the original active roster\n",
    "\n",
    "    action = get_action(EPSILON,Q_val,sizes_Dict,position_Dict) # get action\n",
    "\n",
    "    # Use the given action to substitute the new player into the roster \n",
    "    position = position_Dict[action[0]]\n",
    "    newRoster['Name'][action[0]] = playerData[position][playerData[position]['Free Agency'] == True].iloc[action[1]]['Name']\n",
    "    newRoster['Proj Points'][action[0]] = playerData[position][playerData[position]['Free Agency'] == True].iloc[action[1]]['Projected Points']\n",
    "\n",
    "    # Calculate the reward as the new total minus the baseline\n",
    "    reward = newRoster['Proj Points'].sum() - Baseline\n",
    "\n",
    "    # Update vistis counter and Q-table\n",
    "    n_s[action[0],action[1]] += 1\n",
    "    Q_val[action[0],action[1]] = Q_val[action[0],action[1]] + 1/n_s[action[0],action[1]] * (reward- Q_val[action[0],action[1]])"
   ]
  },
  {
   "cell_type": "code",
   "execution_count": 11,
   "metadata": {},
   "outputs": [],
   "source": [
    "top_picks = np.unravel_index(np.argpartition(Q_val.flatten(), -4)[-4:], Q_val.shape)\n",
    "\n",
    "recommends = pd.concat([playerData[position_Dict[top_picks[0][3]]][playerData[position_Dict[top_picks[0][3]]]['Free Agency'] == True].iloc[top_picks[1][3]],\\\n",
    "    playerData[position_Dict[top_picks[0][2]]][playerData[position_Dict[top_picks[0][2]]]['Free Agency'] == True].iloc[top_picks[1][2]],\\\n",
    "    playerData[position_Dict[top_picks[0][1]]][playerData[position_Dict[top_picks[0][1]]]['Free Agency'] == True].iloc[top_picks[1][1]],\\\n",
    "    playerData[position_Dict[top_picks[0][0]]][playerData[position_Dict[top_picks[0][0]]]['Free Agency'] == True].iloc[top_picks[1][0]]],axis=1).T\n",
    "\n",
    "recommends = recommends[['Name','Projected Points']]\n",
    "pos = []\n",
    "for i in range(4): pos.append(position_Dict[top_picks[0][0]])\n",
    "recommends['Postion'] =  np.flip(pos)\n",
    "recommends['Q-Value'] = np.flip(Q_val[top_picks[0],top_picks[1]])"
   ]
  },
  {
   "cell_type": "code",
   "execution_count": 17,
   "metadata": {},
   "outputs": [
    {
     "data": {
      "text/html": [
       "<div>\n",
       "<style scoped>\n",
       "    .dataframe tbody tr th:only-of-type {\n",
       "        vertical-align: middle;\n",
       "    }\n",
       "\n",
       "    .dataframe tbody tr th {\n",
       "        vertical-align: top;\n",
       "    }\n",
       "\n",
       "    .dataframe thead th {\n",
       "        text-align: right;\n",
       "    }\n",
       "</style>\n",
       "<table border=\"1\" class=\"dataframe\">\n",
       "  <thead>\n",
       "    <tr style=\"text-align: right;\">\n",
       "      <th></th>\n",
       "      <th>Name</th>\n",
       "      <th>Projected Points</th>\n",
       "      <th>Postion</th>\n",
       "      <th>Q-Value</th>\n",
       "    </tr>\n",
       "  </thead>\n",
       "  <tbody>\n",
       "    <tr>\n",
       "      <th>12</th>\n",
       "      <td>Harrison Butker</td>\n",
       "      <td>8.71</td>\n",
       "      <td>K</td>\n",
       "      <td>0.63</td>\n",
       "    </tr>\n",
       "    <tr>\n",
       "      <th>17</th>\n",
       "      <td>Greg Joseph</td>\n",
       "      <td>8.06</td>\n",
       "      <td>K</td>\n",
       "      <td>-0.02</td>\n",
       "    </tr>\n",
       "    <tr>\n",
       "      <th>23</th>\n",
       "      <td>Falcons D/ST</td>\n",
       "      <td>7.13</td>\n",
       "      <td>K</td>\n",
       "      <td>-0.05</td>\n",
       "    </tr>\n",
       "    <tr>\n",
       "      <th>16</th>\n",
       "      <td>Rodrigo Blankenship</td>\n",
       "      <td>7.7</td>\n",
       "      <td>K</td>\n",
       "      <td>-0.38</td>\n",
       "    </tr>\n",
       "  </tbody>\n",
       "</table>\n",
       "</div>"
      ],
      "text/plain": [
       "                   Name Projected Points Postion  Q-Value\n",
       "12      Harrison Butker             8.71       K     0.63\n",
       "17          Greg Joseph             8.06       K    -0.02\n",
       "23         Falcons D/ST             7.13       K    -0.05\n",
       "16  Rodrigo Blankenship              7.7       K    -0.38"
      ]
     },
     "execution_count": 17,
     "metadata": {},
     "output_type": "execute_result"
    }
   ],
   "source": [
    "recommends.sort_values(by=['Q-Value'], ascending=False)"
   ]
  }
 ],
 "metadata": {
  "interpreter": {
   "hash": "3d2bfa5d80f25c8bc046fade44294a8404c4930e8a129b0381351b3d584ab685"
  },
  "kernelspec": {
   "display_name": "Python 3.8.5 ('random')",
   "language": "python",
   "name": "python3"
  },
  "language_info": {
   "codemirror_mode": {
    "name": "ipython",
    "version": 3
   },
   "file_extension": ".py",
   "mimetype": "text/x-python",
   "name": "python",
   "nbconvert_exporter": "python",
   "pygments_lexer": "ipython3",
   "version": "3.8.5"
  },
  "orig_nbformat": 4
 },
 "nbformat": 4,
 "nbformat_minor": 2
}
