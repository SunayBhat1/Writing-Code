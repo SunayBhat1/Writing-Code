{
 "cells": [
  {
   "cell_type": "markdown",
   "source": [
    "# Kullback Leibler Divergence (Relative Entropy) Forward and Reverse"
   ],
   "metadata": {}
  },
  {
   "cell_type": "code",
   "execution_count": 1,
   "source": [
    "import numpy as np\n",
    "import matplotlib.pyplot as plt\n",
    "import tqdm"
   ],
   "outputs": [],
   "metadata": {}
  },
  {
   "cell_type": "code",
   "execution_count": null,
   "source": [],
   "outputs": [],
   "metadata": {}
  }
 ],
 "metadata": {
  "orig_nbformat": 4,
  "language_info": {
   "name": "python",
   "version": "3.6.10",
   "mimetype": "text/x-python",
   "codemirror_mode": {
    "name": "ipython",
    "version": 3
   },
   "pygments_lexer": "ipython3",
   "nbconvert_exporter": "python",
   "file_extension": ".py"
  },
  "kernelspec": {
   "name": "python3",
   "display_name": "Python 3.6.10 64-bit ('py36_ML': conda)"
  },
  "interpreter": {
   "hash": "48a5fc0eb6f8e7a1e6db57a4aa34d51da18392f6389dc35f702eee57a049988d"
  }
 },
 "nbformat": 4,
 "nbformat_minor": 2
}