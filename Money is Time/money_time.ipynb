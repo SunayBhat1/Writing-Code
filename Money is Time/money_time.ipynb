{
 "cells": [
  {
   "cell_type": "code",
   "execution_count": 11,
   "metadata": {},
   "outputs": [],
   "source": [
    "import numpy as np\n",
    "import matplotlib.pyplot as plt\n",
    "plt.style.use('seaborn')\n",
    "from itertools import zip_longest\n",
    "\n"
   ]
  },
  {
   "cell_type": "code",
   "execution_count": 30,
   "metadata": {},
   "outputs": [
    {
     "name": "stdout",
     "output_type": "stream",
     "text": [
      "Number of years to retire:\n",
      "No expense: 30.47\n",
      "Subscriptions: 31.566\n",
      "Big Expense: 65.9\n",
      "Both: 67.364\n"
     ]
    }
   ],
   "source": [
    "goal = 800000\n",
    "\n",
    "years = {0: [],\n",
    "         1: [],\n",
    "         2: [],\n",
    "         3: []}\n",
    "\n",
    "saving_trajs = {0: [],\n",
    "                1: [],\n",
    "                2: [],\n",
    "                3: []}\n",
    "\n",
    "\n",
    "for lifestyles in range(4):\n",
    "    for yr in range(1000):\n",
    "        i=0\n",
    "        retirement_funds = 20000\n",
    "        traj = []\n",
    "        while retirement_funds < goal:\n",
    "            market_return = np.random.normal(0.08, 0.12)\n",
    "            traj.append(retirement_funds)\n",
    "            retirement_funds *= (1 + market_return)\n",
    "            retirement_funds += (5000 * (1 + .02) ** i)\n",
    "            if lifestyles in [1,3]: retirement_funds = retirement_funds - 600\n",
    "            if lifestyles in [2,3]:\n",
    "                if yr == 10: retirement_funds = retirement_funds - 30000\n",
    "            i += 1\n",
    "            # print(retirement_funds)\n",
    "        saving_trajs[lifestyles].append(traj)\n",
    "        years[lifestyles].append(i)\n",
    "\n",
    "print('Number of years to retire:\\nNo expense: {}\\nSubscriptions: {}\\nBig Expense: {}\\nBoth: {}'.format(np.mean(years[0]),np.mean(years[1]),np.mean(years[2]),np.mean(years[3])))"
   ]
  },
  {
   "cell_type": "code",
   "execution_count": 31,
   "metadata": {},
   "outputs": [],
   "source": [
    "traj_arrays = {0: [],\n",
    "                1: [],\n",
    "                2: [],\n",
    "                3: []}\n",
    "\n",
    "traj_arrays[0] = np.array(list(zip_longest(*saving_trajs[0], fillvalue=np.nan))).T\n",
    "traj_arrays[1] = np.array(list(zip_longest(*saving_trajs[1], fillvalue=np.nan))).T\n",
    "traj_arrays[2] = np.array(list(zip_longest(*saving_trajs[2], fillvalue=np.nan))).T\n",
    "traj_arrays[3] = np.array(list(zip_longest(*saving_trajs[3], fillvalue=np.nan))).T"
   ]
  },
  {
   "cell_type": "code",
   "execution_count": 34,
   "metadata": {},
   "outputs": [
    {
     "data": {
      "text/plain": [
       "(35414,)"
      ]
     },
     "execution_count": 34,
     "metadata": {},
     "output_type": "execute_result"
    }
   ],
   "source": [
    "np.nanmean(traj_arrays[2],axis=0).shape"
   ]
  },
  {
   "cell_type": "code",
   "execution_count": 26,
   "metadata": {},
   "outputs": [
    {
     "data": {
      "text/plain": [
       "Text(0.5, 1.0, 'Savings Trajectories')"
      ]
     },
     "execution_count": 26,
     "metadata": {},
     "output_type": "execute_result"
    },
    {
     "name": "stderr",
     "output_type": "stream",
     "text": [
      "/Users/sunaybhat/miniconda3/envs/random/lib/python3.8/site-packages/matplotlib/axes/_base.py:2919: RuntimeWarning: overflow encountered in double_scalars\n",
      "  x0, x1 = inverse_trans.transform([x0t - delta, x1t + delta])\n"
     ]
    },
    {
     "data": {
      "image/png": "[encoded data removed]",
      "text/plain": [
       "<Figure size 576x396 with 1 Axes>"
      ]
     },
     "metadata": {},
     "output_type": "display_data"
    }
   ],
   "source": [
    "for i in range(10):\n",
    "    if i == 0:\n",
    "        plt.plot(np.nanmean(traj_arrays[0],axis=0), label='No expense',c='blue')\n",
    "        plt.plot(np.nanmean(traj_arrays[1],axis=0), label='Subscriptions',c='red')\n",
    "        plt.plot(np.nanmean(traj_arrays[2],axis=0), label='Big Expense',c='green')\n",
    "        plt.plot(np.nanmean(traj_arrays[3],axis=0), label='Both',c='orange')\n",
    "    # elif i !=0:\n",
    "    #     plt.plot(saving_trajs[0][i], c='blue',alpha=0.02)\n",
    "    #     plt.plot(saving_trajs[1][i], c='red',alpha=0.02)\n",
    "    #     plt.plot(saving_trajs[2][i], c='green',alpha=0.02)\n",
    "    #     plt.plot(saving_trajs[3][i], c='orange',alpha=0.02)\n",
    "plt.legend()\n",
    "plt.xlabel('Years')\n",
    "plt.ylabel('Savings')\n",
    "plt.title('Savings Trajectories')"
   ]
  },
  {
   "cell_type": "code",
   "execution_count": 27,
   "metadata": {},
   "outputs": [
    {
     "data": {
      "text/plain": [
       "array([20000.        , 26046.60148571, 32693.38295707, ...,\n",
       "                 -inf,           -inf,           -inf])"
      ]
     },
     "execution_count": 27,
     "metadata": {},
     "output_type": "execute_result"
    }
   ],
   "source": [
    "np.nanmean(traj_arrays[3],axis=0)"
   ]
  },
  {
   "cell_type": "code",
   "execution_count": null,
   "metadata": {},
   "outputs": [],
   "source": []
  }
 ],
 "metadata": {
  "interpreter": {
   "hash": "3d2bfa5d80f25c8bc046fade44294a8404c4930e8a129b0381351b3d584ab685"
  },
  "kernelspec": {
   "display_name": "Python 3.8.5 ('random')",
   "language": "python",
   "name": "python3"
  },
  "language_info": {
   "codemirror_mode": {
    "name": "ipython",
    "version": 3
   },
   "file_extension": ".py",
   "mimetype": "text/x-python",
   "name": "python",
   "nbconvert_exporter": "python",
   "pygments_lexer": "ipython3",
   "version": "3.8.5"
  },
  "orig_nbformat": 4
 },
 "nbformat": 4,
 "nbformat_minor": 2
}
