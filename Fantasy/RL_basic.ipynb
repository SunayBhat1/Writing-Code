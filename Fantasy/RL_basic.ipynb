{
 "cells": [
  {
   "cell_type": "code",
   "execution_count": 112,
   "source": [
    "from ImportLeague import getLeague\n",
    "from ImportData import getTeamData\n",
    "from ImportData import getPlayerData\n",
    "import pandas as pd\n",
    "# from sklearn import linear_model\n",
    "import numpy as np\n",
    "import matplotlib.pyplot as plt\n",
    "plt.style.use('seaborn')\n",
    "from tqdm import tqdm \n",
    "import warnings\n",
    "warnings.filterwarnings(\"ignore\")"
   ],
   "outputs": [],
   "metadata": {}
  },
  {
   "cell_type": "code",
   "execution_count": 2,
   "source": [
    "# Import Data\n",
    "myLeague = getLeague()\n",
    "teamData_defense,teamData_offense = getTeamData()\n",
    "playerData = getPlayerData(myLeague,teamData_defense,teamData_offense)"
   ],
   "outputs": [],
   "metadata": {}
  },
  {
   "cell_type": "code",
   "execution_count": 48,
   "source": [
    "def get_active_roster(Roster):\n",
    "\n",
    "    myRoster = pd.DataFrame(columns=['Position','Name','Proj Points'])\n",
    "\n",
    "    # Create a dataframe of the full roster of players I own\n",
    "    for player in Roster:\n",
    "        playerDict = {}\n",
    "        playerDict['Position'] = player.position\n",
    "        playerDict['Name'] = player.name\n",
    "        playerDict['Proj Points'] = player.stats[myLeague.nfl_week]['projected_points']\n",
    "        myRoster = myRoster.append(playerDict, ignore_index = True)\n",
    "\n",
    "    # Concatenate the n highest projected-points players with n being the allowed slots per position accross positions\n",
    "    myRoster = pd.concat([myRoster[myRoster['Position'] == 'QB'].nlargest(1, ['Proj Points']),\\\n",
    "        myRoster[myRoster['Position'] == 'RB'].nlargest(2, ['Proj Points']),\\\n",
    "        myRoster[myRoster['Position'] == 'WR'].nlargest(3, ['Proj Points']),\\\n",
    "        myRoster[myRoster['Position'] == 'TE'].nlargest(1, ['Proj Points']),\\\n",
    "        myRoster[myRoster['Position'] == 'D/ST'].nlargest(1, ['Proj Points']),\\\n",
    "        myRoster[myRoster['Position'] == 'K'].nlargest(1, ['Proj Points'])])\n",
    "\n",
    "    return myRoster\n"
   ],
   "outputs": [],
   "metadata": {}
  },
  {
   "cell_type": "code",
   "execution_count": 104,
   "source": [
    "myRoster = get_active_roster(myLeague.teams[8].roster)\n",
    "myRoster = myRoster.reset_index(drop=True)\n",
    "myRoster"
   ],
   "outputs": [
    {
     "output_type": "execute_result",
     "data": {
      "text/html": [
       "<div>\n",
       "<style scoped>\n",
       "    .dataframe tbody tr th:only-of-type {\n",
       "        vertical-align: middle;\n",
       "    }\n",
       "\n",
       "    .dataframe tbody tr th {\n",
       "        vertical-align: top;\n",
       "    }\n",
       "\n",
       "    .dataframe thead th {\n",
       "        text-align: right;\n",
       "    }\n",
       "</style>\n",
       "<table border=\"1\" class=\"dataframe\">\n",
       "  <thead>\n",
       "    <tr style=\"text-align: right;\">\n",
       "      <th></th>\n",
       "      <th>Position</th>\n",
       "      <th>Name</th>\n",
       "      <th>Proj Points</th>\n",
       "    </tr>\n",
       "  </thead>\n",
       "  <tbody>\n",
       "    <tr>\n",
       "      <th>0</th>\n",
       "      <td>QB</td>\n",
       "      <td>Dak Prescott</td>\n",
       "      <td>22.02</td>\n",
       "    </tr>\n",
       "    <tr>\n",
       "      <th>1</th>\n",
       "      <td>RB</td>\n",
       "      <td>Saquon Barkley</td>\n",
       "      <td>14.37</td>\n",
       "    </tr>\n",
       "    <tr>\n",
       "      <th>2</th>\n",
       "      <td>RB</td>\n",
       "      <td>Chase Edmonds</td>\n",
       "      <td>14.32</td>\n",
       "    </tr>\n",
       "    <tr>\n",
       "      <th>3</th>\n",
       "      <td>WR</td>\n",
       "      <td>Amari Cooper</td>\n",
       "      <td>12.07</td>\n",
       "    </tr>\n",
       "    <tr>\n",
       "      <th>4</th>\n",
       "      <td>WR</td>\n",
       "      <td>Marvin Jones Jr.</td>\n",
       "      <td>11.71</td>\n",
       "    </tr>\n",
       "    <tr>\n",
       "      <th>5</th>\n",
       "      <td>WR</td>\n",
       "      <td>Jakobi Meyers</td>\n",
       "      <td>11.01</td>\n",
       "    </tr>\n",
       "    <tr>\n",
       "      <th>6</th>\n",
       "      <td>TE</td>\n",
       "      <td>Noah Fant</td>\n",
       "      <td>8.62</td>\n",
       "    </tr>\n",
       "    <tr>\n",
       "      <th>7</th>\n",
       "      <td>D/ST</td>\n",
       "      <td>Broncos D/ST</td>\n",
       "      <td>7.18</td>\n",
       "    </tr>\n",
       "    <tr>\n",
       "      <th>8</th>\n",
       "      <td>K</td>\n",
       "      <td>Mason Crosby</td>\n",
       "      <td>8.08</td>\n",
       "    </tr>\n",
       "  </tbody>\n",
       "</table>\n",
       "</div>"
      ],
      "text/plain": [
       "  Position              Name  Proj Points\n",
       "0       QB      Dak Prescott        22.02\n",
       "1       RB    Saquon Barkley        14.37\n",
       "2       RB     Chase Edmonds        14.32\n",
       "3       WR      Amari Cooper        12.07\n",
       "4       WR  Marvin Jones Jr.        11.71\n",
       "5       WR     Jakobi Meyers        11.01\n",
       "6       TE         Noah Fant         8.62\n",
       "7     D/ST      Broncos D/ST         7.18\n",
       "8        K      Mason Crosby         8.08"
      ]
     },
     "metadata": {},
     "execution_count": 104
    }
   ],
   "metadata": {}
  },
  {
   "cell_type": "code",
   "execution_count": 120,
   "source": [
    "# Find sizes of each free agency pool\n",
    "sizes = []\n",
    "\n",
    "for position in ['QB','RB','WR','TE','D/ST','K']:\n",
    "    sizes.append(playerData[position][playerData[position]['Free Agency'] == True].shape[0])"
   ],
   "outputs": [],
   "metadata": {}
  },
  {
   "cell_type": "code",
   "execution_count": 148,
   "source": [
    "def get_action(epsilon,Q_val,sizes_Dict,position_Dict):\n",
    "    p_epsilon = np.random.uniform(0,1)\n",
    "    if p_epsilon < epsilon:\n",
    "        position = np.random.randint(8)\n",
    "        free_agent = np.random.randint(sizes_Dict[position_Dict[position]])\n",
    "        return (position,free_agent)\n",
    "\n",
    "    action = np.unravel_index(Q_val.argmax(), Q_val.shape)\n",
    "    while action[1] > (sizes_Dict[position_Dict[action[0]]] -1):\n",
    "        Q_val[action[0],action[1]] = -100\n",
    "        action = np.unravel_index(Q_val.argmax(), Q_val.shape)\n",
    "\n",
    "\n",
    "\n",
    "    return action\n"
   ],
   "outputs": [],
   "metadata": {}
  },
  {
   "cell_type": "code",
   "execution_count": 149,
   "source": [
    "NUM_EPISODES = 10000\n",
    "EPSILON = 0.3\n",
    "\n",
    "# Sets Q-value table and vistis table to calculate inctemental averages\n",
    "Q_val = np.zeros([8,max(sizes)])\n",
    "n_s = np.zeros([8,max(sizes)])\n",
    "sizes_Dict = dict(zip(['QB','RB','WR','TE','D/ST','K'], sizes))\n",
    "position_Dict = dict(zip(range(8),['QB','RB','RB','WR','WR','WR','TE','D/ST','K']))\n",
    "Baseline = myRoster['Proj Points'].sum()\n",
    "\n",
    "for episode in tqdm(range(NUM_EPISODES)):\n",
    "\n",
    "    newRoster = myRoster.copy()\n",
    "\n",
    "    action = get_action(EPSILON,Q_val,sizes_Dict,position_Dict)\n",
    "\n",
    "    position = position_Dict[action[0]]\n",
    "    newRoster['Name'][action[0]] = playerData[position][playerData[position]['Free Agency'] == True].iloc[action[1]]['Name']\n",
    "    newRoster['Proj Points'][action[0]] = playerData[position][playerData[position]['Free Agency'] == True].iloc[action[1]]['Projected Points']\n",
    "\n",
    "    reward = newRoster['Proj Points'].sum() - Baseline\n",
    "\n",
    "    n_s[action[0],action[1]] += 1\n",
    "    Q_val[action[0],action[1]] = Q_val[action[0],action[1]] + 1/n_s[action[0],action[1]] * (reward- Q_val[action[0],action[1]])\n"
   ],
   "outputs": [
    {
     "output_type": "stream",
     "name": "stderr",
     "text": [
      "100%|██████████| 10000/10000 [00:19<00:00, 512.22it/s]\n"
     ]
    }
   ],
   "metadata": {}
  },
  {
   "cell_type": "code",
   "execution_count": 153,
   "source": [
    "Q_val"
   ],
   "outputs": [
    {
     "output_type": "execute_result",
     "data": {
      "text/plain": [
       "array([[  -4.72,   -7.21,   -2.39,   -7.46,   -3.09,   -6.71,   -8.8 ,\n",
       "          -6.54, -100.  ],\n",
       "       [  -8.19,   -9.78,   -7.16,   -9.76,  -10.28, -100.  , -100.  ,\n",
       "        -100.  , -100.  ],\n",
       "       [  -8.14,   -9.73,   -7.11,   -9.71,  -10.23, -100.  , -100.  ,\n",
       "        -100.  , -100.  ],\n",
       "       [  -4.4 ,   -5.74,   -3.72,   -5.05,   -4.02,   -6.49,   -4.55,\n",
       "          -6.03,   -6.68],\n",
       "       [  -4.04,   -5.38,   -3.36,   -4.69,   -3.66,   -6.13,   -4.19,\n",
       "          -5.67,   -6.32],\n",
       "       [  -3.34,   -4.68,   -2.66,   -3.99,   -2.96,   -5.43,   -3.49,\n",
       "          -4.97,   -5.62],\n",
       "       [  -2.11,   -3.17,   -5.81,   -3.63, -100.  , -100.  , -100.  ,\n",
       "        -100.  , -100.  ],\n",
       "       [  -1.33,   -1.07,   -2.1 ,   -3.87,   -1.38,   -1.79, -100.  ,\n",
       "        -100.  , -100.  ]])"
      ]
     },
     "metadata": {},
     "execution_count": 153
    }
   ],
   "metadata": {}
  }
 ],
 "metadata": {
  "orig_nbformat": 4,
  "language_info": {
   "name": "python",
   "version": "3.6.10",
   "mimetype": "text/x-python",
   "codemirror_mode": {
    "name": "ipython",
    "version": 3
   },
   "pygments_lexer": "ipython3",
   "nbconvert_exporter": "python",
   "file_extension": ".py"
  },
  "kernelspec": {
   "name": "python3",
   "display_name": "Python 3.6.10 64-bit ('py36_ML': conda)"
  },
  "interpreter": {
   "hash": "48a5fc0eb6f8e7a1e6db57a4aa34d51da18392f6389dc35f702eee57a049988d"
  }
 },
 "nbformat": 4,
 "nbformat_minor": 2
}