{
 "cells": [
  {
   "cell_type": "code",
   "execution_count": 1,
   "source": [
    "from ImportLeague import getLeague\n",
    "from ImportData import getTeamData\n",
    "from ImportData import getPlayerData\n",
    "import pandas as pd\n",
    "# from sklearn import linear_model\n",
    "import numpy as np\n",
    "import matplotlib.pyplot as plt\n",
    "plt.style.use('seaborn')\n",
    "from tqdm import tqdm \n",
    "import warnings\n",
    "warnings.filterwarnings(\"ignore\")"
   ],
   "outputs": [],
   "metadata": {}
  },
  {
   "cell_type": "code",
   "execution_count": 2,
   "source": [
    "# Import Data\n",
    "myLeague = getLeague()\n",
    "teamData_defense,teamData_offense = getTeamData()\n",
    "playerData = getPlayerData(myLeague,teamData_defense,teamData_offense)"
   ],
   "outputs": [],
   "metadata": {}
  },
  {
   "cell_type": "code",
   "execution_count": 3,
   "source": [
    "def get_active_roster(Roster):\n",
    "\n",
    "    myRoster = pd.DataFrame(columns=['Position','Name','Proj Points'])\n",
    "\n",
    "    # Create a dataframe of the full roster of players I own\n",
    "    for player in Roster:\n",
    "        playerDict = {}\n",
    "        playerDict['Position'] = player.position\n",
    "        playerDict['Name'] = player.name\n",
    "        playerDict['Proj Points'] = player.stats[myLeague.nfl_week]['projected_points']\n",
    "        myRoster = myRoster.append(playerDict, ignore_index = True)\n",
    "\n",
    "    # Concatenate the n highest projected-points players with n being the allowed slots per position accross positions\n",
    "    myRoster = pd.concat([myRoster[myRoster['Position'] == 'QB'].nlargest(1, ['Proj Points']),\\\n",
    "        myRoster[myRoster['Position'] == 'RB'].nlargest(2, ['Proj Points']),\\\n",
    "        myRoster[myRoster['Position'] == 'WR'].nlargest(3, ['Proj Points']),\\\n",
    "        myRoster[myRoster['Position'] == 'TE'].nlargest(1, ['Proj Points']),\\\n",
    "        myRoster[myRoster['Position'] == 'D/ST'].nlargest(1, ['Proj Points']),\\\n",
    "        myRoster[myRoster['Position'] == 'K'].nlargest(1, ['Proj Points'])])\n",
    "\n",
    "    return myRoster\n"
   ],
   "outputs": [],
   "metadata": {}
  },
  {
   "cell_type": "code",
   "execution_count": 4,
   "source": [
    "myRoster = get_active_roster(myLeague.teams[8].roster)\n",
    "myRoster = myRoster.reset_index(drop=True)\n",
    "myRoster"
   ],
   "outputs": [
    {
     "output_type": "execute_result",
     "data": {
      "text/html": [
       "<div>\n",
       "<style scoped>\n",
       "    .dataframe tbody tr th:only-of-type {\n",
       "        vertical-align: middle;\n",
       "    }\n",
       "\n",
       "    .dataframe tbody tr th {\n",
       "        vertical-align: top;\n",
       "    }\n",
       "\n",
       "    .dataframe thead th {\n",
       "        text-align: right;\n",
       "    }\n",
       "</style>\n",
       "<table border=\"1\" class=\"dataframe\">\n",
       "  <thead>\n",
       "    <tr style=\"text-align: right;\">\n",
       "      <th></th>\n",
       "      <th>Position</th>\n",
       "      <th>Name</th>\n",
       "      <th>Proj Points</th>\n",
       "    </tr>\n",
       "  </thead>\n",
       "  <tbody>\n",
       "    <tr>\n",
       "      <th>0</th>\n",
       "      <td>QB</td>\n",
       "      <td>Dak Prescott</td>\n",
       "      <td>22.02</td>\n",
       "    </tr>\n",
       "    <tr>\n",
       "      <th>1</th>\n",
       "      <td>RB</td>\n",
       "      <td>Saquon Barkley</td>\n",
       "      <td>14.40</td>\n",
       "    </tr>\n",
       "    <tr>\n",
       "      <th>2</th>\n",
       "      <td>RB</td>\n",
       "      <td>Chase Edmonds</td>\n",
       "      <td>14.32</td>\n",
       "    </tr>\n",
       "    <tr>\n",
       "      <th>3</th>\n",
       "      <td>WR</td>\n",
       "      <td>Amari Cooper</td>\n",
       "      <td>12.07</td>\n",
       "    </tr>\n",
       "    <tr>\n",
       "      <th>4</th>\n",
       "      <td>WR</td>\n",
       "      <td>Marvin Jones Jr.</td>\n",
       "      <td>11.71</td>\n",
       "    </tr>\n",
       "    <tr>\n",
       "      <th>5</th>\n",
       "      <td>WR</td>\n",
       "      <td>Antonio Brown</td>\n",
       "      <td>11.46</td>\n",
       "    </tr>\n",
       "    <tr>\n",
       "      <th>6</th>\n",
       "      <td>TE</td>\n",
       "      <td>Noah Fant</td>\n",
       "      <td>8.62</td>\n",
       "    </tr>\n",
       "    <tr>\n",
       "      <th>7</th>\n",
       "      <td>D/ST</td>\n",
       "      <td>Broncos D/ST</td>\n",
       "      <td>7.18</td>\n",
       "    </tr>\n",
       "    <tr>\n",
       "      <th>8</th>\n",
       "      <td>K</td>\n",
       "      <td>Mason Crosby</td>\n",
       "      <td>8.08</td>\n",
       "    </tr>\n",
       "  </tbody>\n",
       "</table>\n",
       "</div>"
      ],
      "text/plain": [
       "  Position              Name  Proj Points\n",
       "0       QB      Dak Prescott        22.02\n",
       "1       RB    Saquon Barkley        14.40\n",
       "2       RB     Chase Edmonds        14.32\n",
       "3       WR      Amari Cooper        12.07\n",
       "4       WR  Marvin Jones Jr.        11.71\n",
       "5       WR     Antonio Brown        11.46\n",
       "6       TE         Noah Fant         8.62\n",
       "7     D/ST      Broncos D/ST         7.18\n",
       "8        K      Mason Crosby         8.08"
      ]
     },
     "metadata": {},
     "execution_count": 4
    }
   ],
   "metadata": {}
  },
  {
   "cell_type": "code",
   "execution_count": 5,
   "source": [
    "# Find sizes of each free agency pool\n",
    "sizes = []\n",
    "\n",
    "for position in ['QB','RB','WR','TE','D/ST','K']:\n",
    "    sizes.append(playerData[position][playerData[position]['Free Agency'] == True].shape[0])"
   ],
   "outputs": [],
   "metadata": {}
  },
  {
   "cell_type": "code",
   "execution_count": 7,
   "source": [
    "def get_action(epsilon,Q_val,sizes_Dict,position_Dict):\n",
    "    p_epsilon = np.random.uniform(0,1)\n",
    "    if p_epsilon < epsilon:\n",
    "        position = np.random.randint(9)\n",
    "        free_agent = np.random.randint(sizes_Dict[position_Dict[position]])\n",
    "        return (position,free_agent)\n",
    "\n",
    "    action = np.unravel_index(Q_val.argmax(), Q_val.shape)\n",
    "    while action[1] > (sizes_Dict[position_Dict[action[0]]] -1):\n",
    "        Q_val[action[0],action[1]] = -100\n",
    "        action = np.unravel_index(Q_val.argmax(), Q_val.shape)\n",
    "\n",
    "\n",
    "\n",
    "    return action\n"
   ],
   "outputs": [],
   "metadata": {}
  },
  {
   "cell_type": "code",
   "execution_count": 35,
   "source": [
    "sizes_Dict[position_Dict[2]]"
   ],
   "outputs": [
    {
     "output_type": "execute_result",
     "data": {
      "text/plain": [
       "5"
      ]
     },
     "metadata": {},
     "execution_count": 35
    }
   ],
   "metadata": {}
  },
  {
   "cell_type": "code",
   "execution_count": 38,
   "source": [
    "Q_val = np.zeros([9,max(sizes)])\n",
    "n_s = np.zeros([9,max(sizes)])\n",
    "for slot in range(9):\n",
    "    for null in range(sizes_Dict[position_Dict[slot]],max(sizes)):\n",
    "        Q_val[slot][null] = -100"
   ],
   "outputs": [],
   "metadata": {}
  },
  {
   "cell_type": "code",
   "execution_count": 41,
   "source": [
    "NUM_EPISODES = 1000\n",
    "EPSILON = 0.3\n",
    "\n",
    "# Sets Q-value table and vistis table to calculate inctemental averages\n",
    "Q_val = np.zeros([9,max(sizes)])\n",
    "n_s = np.zeros([9,max(sizes)])\n",
    "sizes_Dict = dict(zip(['QB','RB','WR','TE','D/ST','K'], sizes))\n",
    "position_Dict = dict(zip(range(9),['QB','RB','RB','WR','WR','WR','TE','D/ST','K']))\n",
    "Baseline = myRoster['Proj Points'].sum()\n",
    "\n",
    "for slot in range(9): \n",
    "    for null in range(sizes_Dict[position_Dict[slot]],max(sizes)): Q_val[slot][null] = -100\n",
    "\n",
    "\n",
    "for episode in tqdm(range(NUM_EPISODES)):\n",
    "\n",
    "    newRoster = myRoster.copy()\n",
    "\n",
    "    action = get_action(EPSILON,Q_val,sizes_Dict,position_Dict)\n",
    "\n",
    "    position = position_Dict[action[0]]\n",
    "    newRoster['Name'][action[0]] = playerData[position][playerData[position]['Free Agency'] == True].iloc[action[1]]['Name']\n",
    "    newRoster['Proj Points'][action[0]] = playerData[position][playerData[position]['Free Agency'] == True].iloc[action[1]]['Projected Points']\n",
    "\n",
    "    reward = newRoster['Proj Points'].sum() - Baseline\n",
    "\n",
    "    n_s[action[0],action[1]] += 1\n",
    "    Q_val[action[0],action[1]] = Q_val[action[0],action[1]] + 1/n_s[action[0],action[1]] * (reward- Q_val[action[0],action[1]])\n"
   ],
   "outputs": [
    {
     "output_type": "stream",
     "name": "stderr",
     "text": [
      "100%|██████████| 1000/1000 [00:01<00:00, 507.68it/s]\n"
     ]
    }
   ],
   "metadata": {}
  },
  {
   "cell_type": "code",
   "execution_count": 42,
   "source": [
    "Q_val"
   ],
   "outputs": [
    {
     "output_type": "execute_result",
     "data": {
      "text/plain": [
       "array([[-4.720e+00, -7.210e+00, -2.390e+00, -7.470e+00, -3.090e+00,\n",
       "        -6.720e+00, -8.800e+00, -6.540e+00],\n",
       "       [-8.220e+00, -9.810e+00, -7.190e+00, -9.790e+00, -1.031e+01,\n",
       "        -1.000e+02, -1.000e+02, -1.000e+02],\n",
       "       [-8.140e+00, -9.730e+00, -7.110e+00, -9.710e+00, -1.023e+01,\n",
       "        -1.000e+02, -1.000e+02, -1.000e+02],\n",
       "       [-4.420e+00, -5.740e+00, -3.720e+00, -5.050e+00, -4.020e+00,\n",
       "        -6.490e+00, -4.550e+00, -6.030e+00],\n",
       "       [-4.060e+00, -5.380e+00, -3.360e+00, -4.690e+00, -3.660e+00,\n",
       "        -6.130e+00, -4.190e+00, -5.670e+00],\n",
       "       [-3.810e+00, -5.130e+00, -3.110e+00, -4.440e+00, -3.410e+00,\n",
       "        -5.880e+00, -3.940e+00, -5.420e+00],\n",
       "       [-2.110e+00, -3.170e+00, -5.810e+00, -3.630e+00, -1.000e+02,\n",
       "        -1.000e+02, -1.000e+02, -1.000e+02],\n",
       "       [-2.950e+00, -1.330e+00, -1.070e+00, -2.100e+00, -3.870e+00,\n",
       "        -1.390e+00, -1.790e+00, -1.000e+02],\n",
       "       [ 6.300e-01, -8.300e-01, -6.600e-01, -4.200e-01, -3.800e-01,\n",
       "        -2.000e-02, -4.300e-01, -1.000e+02]])"
      ]
     },
     "metadata": {},
     "execution_count": 42
    }
   ],
   "metadata": {}
  },
  {
   "cell_type": "code",
   "execution_count": 84,
   "source": [
    "top_picks = np.unravel_index(np.argpartition(Q_val.flatten(), -4)[-4:], Q_val.shape)\n",
    "\n",
    "recommends = pd.concat([playerData[position_Dict[top_picks[0][3]]][playerData[position_Dict[top_picks[0][3]]]['Free Agency'] == True].iloc[top_picks[1][3]],\\\n",
    "    playerData[position_Dict[top_picks[0][2]]][playerData[position_Dict[top_picks[0][2]]]['Free Agency'] == True].iloc[top_picks[1][2]],\\\n",
    "    playerData[position_Dict[top_picks[0][1]]][playerData[position_Dict[top_picks[0][1]]]['Free Agency'] == True].iloc[top_picks[1][1]],\\\n",
    "    playerData[position_Dict[top_picks[0][0]]][playerData[position_Dict[top_picks[0][0]]]['Free Agency'] == True].iloc[top_picks[1][0]]],axis=1).T\n",
    "\n",
    "recommends = recommends[['Name','Projected Points']]\n",
    "pos = []\n",
    "for i in range(4): pos.append(position_Dict[top_picks[0][0]])\n",
    "recommends['Postion'] =  np.flip(pos)\n",
    "recommends['Q-Value'] = np.flip(Q_val[top_picks[0],top_picks[1]])"
   ],
   "outputs": [],
   "metadata": {}
  },
  {
   "cell_type": "code",
   "execution_count": 85,
   "source": [
    "recommends"
   ],
   "outputs": [
    {
     "output_type": "execute_result",
     "data": {
      "text/html": [
       "<div>\n",
       "<style scoped>\n",
       "    .dataframe tbody tr th:only-of-type {\n",
       "        vertical-align: middle;\n",
       "    }\n",
       "\n",
       "    .dataframe tbody tr th {\n",
       "        vertical-align: top;\n",
       "    }\n",
       "\n",
       "    .dataframe thead th {\n",
       "        text-align: right;\n",
       "    }\n",
       "</style>\n",
       "<table border=\"1\" class=\"dataframe\">\n",
       "  <thead>\n",
       "    <tr style=\"text-align: right;\">\n",
       "      <th></th>\n",
       "      <th>Name</th>\n",
       "      <th>Projected Points</th>\n",
       "      <th>Postion</th>\n",
       "      <th>Q-Value</th>\n",
       "    </tr>\n",
       "  </thead>\n",
       "  <tbody>\n",
       "    <tr>\n",
       "      <th>12</th>\n",
       "      <td>Harrison Butker</td>\n",
       "      <td>8.71</td>\n",
       "      <td>K</td>\n",
       "      <td>0.63</td>\n",
       "    </tr>\n",
       "    <tr>\n",
       "      <th>16</th>\n",
       "      <td>Rodrigo Blankenship</td>\n",
       "      <td>7.7</td>\n",
       "      <td>K</td>\n",
       "      <td>-0.38</td>\n",
       "    </tr>\n",
       "    <tr>\n",
       "      <th>17</th>\n",
       "      <td>Greg Joseph</td>\n",
       "      <td>8.06</td>\n",
       "      <td>K</td>\n",
       "      <td>-0.02</td>\n",
       "    </tr>\n",
       "    <tr>\n",
       "      <th>15</th>\n",
       "      <td>Jason Sanders</td>\n",
       "      <td>7.66</td>\n",
       "      <td>K</td>\n",
       "      <td>-0.42</td>\n",
       "    </tr>\n",
       "  </tbody>\n",
       "</table>\n",
       "</div>"
      ],
      "text/plain": [
       "                   Name Projected Points Postion  Q-Value\n",
       "12      Harrison Butker             8.71       K     0.63\n",
       "16  Rodrigo Blankenship              7.7       K    -0.38\n",
       "17          Greg Joseph             8.06       K    -0.02\n",
       "15        Jason Sanders             7.66       K    -0.42"
      ]
     },
     "metadata": {},
     "execution_count": 85
    }
   ],
   "metadata": {}
  }
 ],
 "metadata": {
  "orig_nbformat": 4,
  "language_info": {
   "name": "python",
   "version": "3.6.10",
   "mimetype": "text/x-python",
   "codemirror_mode": {
    "name": "ipython",
    "version": 3
   },
   "pygments_lexer": "ipython3",
   "nbconvert_exporter": "python",
   "file_extension": ".py"
  },
  "kernelspec": {
   "name": "python3",
   "display_name": "Python 3.6.10 64-bit ('py36_ML': conda)"
  },
  "interpreter": {
   "hash": "48a5fc0eb6f8e7a1e6db57a4aa34d51da18392f6389dc35f702eee57a049988d"
  }
 },
 "nbformat": 4,
 "nbformat_minor": 2
}