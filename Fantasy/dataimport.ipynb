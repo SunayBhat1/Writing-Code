{
 "cells": [
  {
   "cell_type": "code",
   "execution_count": 1,
   "source": [
    "from ImportLeague import getLeague\n",
    "from ImportData import getTeamData\n",
    "from ImportData import getPlayerData\n",
    "import pandas as pd\n",
    "import numpy as np\n",
    "import matplotlib.pyplot as plt\n",
    "import pickle"
   ],
   "outputs": [],
   "metadata": {}
  },
  {
   "cell_type": "code",
   "execution_count": 2,
   "source": [
    "# Import Data\n",
    "myLeague = getLeague()\n",
    "teamData_defense,teamData_offense = getTeamData()\n",
    "playerData = getPlayerData(myLeague,teamData_defense,teamData_offense)\n"
   ],
   "outputs": [],
   "metadata": {}
  },
  {
   "cell_type": "code",
   "execution_count": 3,
   "source": [
    "# list(PRO_TEAM_MAP.values()).index(player.proTeam)\n",
    "plt.scatter(playerData['QB']['Position Rank'],playerData['QB']['Points'])\n",
    "np.corrcoef(playerData['QB']['Position Rank'].to_numpy(dtype=float),playerData['QB']['Points'].to_numpy(dtype=float))"
   ],
   "outputs": [
    {
     "output_type": "execute_result",
     "data": {
      "text/plain": [
       "array([[1.       , 0.2708729],\n",
       "       [0.2708729, 1.       ]])"
      ]
     },
     "metadata": {},
     "execution_count": 3
    },
    {
     "output_type": "display_data",
     "data": {
      "image/png": "[encoded data removed]",
      "text/plain": [
       "<Figure size 432x288 with 1 Axes>"
      ]
     },
     "metadata": {
      "needs_background": "light"
     }
    }
   ],
   "metadata": {}
  },
  {
   "cell_type": "code",
   "execution_count": null,
   "source": [
    "playerData['QB']"
   ],
   "outputs": [],
   "metadata": {}
  }
 ],
 "metadata": {
  "orig_nbformat": 4,
  "language_info": {
   "name": "python",
   "version": "3.6.10",
   "mimetype": "text/x-python",
   "codemirror_mode": {
    "name": "ipython",
    "version": 3
   },
   "pygments_lexer": "ipython3",
   "nbconvert_exporter": "python",
   "file_extension": ".py"
  },
  "kernelspec": {
   "name": "python3",
   "display_name": "Python 3.6.10 64-bit ('py36_ML': conda)"
  },
  "interpreter": {
   "hash": "48a5fc0eb6f8e7a1e6db57a4aa34d51da18392f6389dc35f702eee57a049988d"
  }
 },
 "nbformat": 4,
 "nbformat_minor": 2
}